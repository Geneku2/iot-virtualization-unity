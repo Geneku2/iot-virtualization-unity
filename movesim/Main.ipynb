{
 "cells": [
  {
   "cell_type": "code",
   "execution_count": 1,
   "metadata": {},
   "outputs": [],
   "source": [
    "from new_animal import *\n",
    "from New_map_generator import *\n",
    "import numpy as np"
   ]
  },
  {
   "cell_type": "code",
   "execution_count": 2,
   "metadata": {},
   "outputs": [
    {
     "data": {
      "image/png": "[encoded data removed]",
      "text/plain": [
       "<Figure size 432x288 with 1 Axes>"
      ]
     },
     "metadata": {
      "needs_background": "light"
     },
     "output_type": "display_data"
    }
   ],
   "source": [
    "dimensions = [400, 400]\n",
    "mountains = [[40, 40, 40, 40]]\n",
    "lakes = [[300, 300, 15, 60], [100, 50, 50, 50]]\n",
    "\n",
    "new_map = Map(dimensions, mountains, lakes)"
   ]
  },
  {
   "cell_type": "code",
   "execution_count": 3,
   "metadata": {},
   "outputs": [],
   "source": [
    "lion = Lion(np.random.randint(0, 400, 2), 0, new_map)"
   ]
  },
  {
   "cell_type": "code",
   "execution_count": 4,
   "metadata": {},
   "outputs": [],
   "source": [
    "zebra1 = Zebra(np.random.randint(0, 400, 2), 1, new_map)"
   ]
  },
  {
   "cell_type": "code",
   "execution_count": 5,
   "metadata": {},
   "outputs": [],
   "source": [
    "zebra2 = Zebra(np.random.randint(0, 400, 2), 2, new_map)"
   ]
  },
  {
   "cell_type": "code",
   "execution_count": 6,
   "metadata": {},
   "outputs": [],
   "source": [
    "all_animal = [lion, zebra1, zebra2]"
   ]
  },
  {
   "cell_type": "code",
   "execution_count": 7,
   "metadata": {},
   "outputs": [],
   "source": [
    "lion(all_animal)\n",
    "zebra1(all_animal)\n",
    "zebra2(all_animal)"
   ]
  },
  {
   "cell_type": "code",
   "execution_count": 8,
   "metadata": {},
   "outputs": [
    {
     "data": {
      "text/plain": [
       "{'id': 0,\n",
       " 'location': array([327, 285]),\n",
       " 'type': 'lion',\n",
       " 'vision': 30,\n",
       " 'health': 96,\n",
       " 'state': {'hunger': 96, 'thirst': 96, 'sleep': 96},\n",
       " 'isDead': False,\n",
       " 'respawn_time': 10,\n",
       " 'walk_stride': 1,\n",
       " 'run_stride': 4,\n",
       " 'move_angle': 3.625524655271965,\n",
       " 'map': <New_map_generator.Map at 0xa1b9c9f60>,\n",
       " 'all_animal': [<new_animal.Lion at 0xa1c1de978>,\n",
       "  <new_animal.Zebra at 0xa1c1de0b8>,\n",
       "  <new_animal.Zebra at 0xa1c1d3438>],\n",
       " 'model': <new_model.FSMLionModel at 0xa1c1de550>,\n",
       " 'action_dict': {0: 'drink', 1: 'eat', 2: 'sleep', 3: 'walk', 4: 'run'},\n",
       " 'action': 'walk'}"
      ]
     },
     "execution_count": 8,
     "metadata": {},
     "output_type": "execute_result"
    }
   ],
   "source": [
    "lion.execute_action()\n",
    "lion.__dict__"
   ]
  },
  {
   "cell_type": "code",
   "execution_count": 14,
   "metadata": {},
   "outputs": [
    {
     "data": {
      "text/plain": [
       "'POINT (100 100)'"
      ]
     },
     "execution_count": 14,
     "metadata": {},
     "output_type": "execute_result"
    }
   ],
   "source": [
    "new_map.find_closest_lake(zebra1.location)"
   ]
  },
  {
   "cell_type": "code",
   "execution_count": 15,
   "metadata": {},
   "outputs": [
    {
     "data": {
      "text/plain": [
       "array([ 82, 169])"
      ]
     },
     "execution_count": 15,
     "metadata": {},
     "output_type": "execute_result"
    }
   ],
   "source": [
    "zebra1.location"
   ]
  },
  {
   "cell_type": "code",
   "execution_count": 11,
   "metadata": {},
   "outputs": [],
   "source": [
    "from utilities import *"
   ]
  },
  {
   "cell_type": "code",
   "execution_count": 12,
   "metadata": {},
   "outputs": [
    {
     "data": {
      "text/plain": [
       "271.07379069175977"
      ]
     },
     "execution_count": 12,
     "metadata": {},
     "output_type": "execute_result"
    }
   ],
   "source": [
    "distance(zebra1.location, lion.location)"
   ]
  },
  {
   "cell_type": "code",
   "execution_count": 25,
   "metadata": {},
   "outputs": [],
   "source": [
    "from shapely.geometry import Polygon, Point, LinearRing\n"
   ]
  },
  {
   "cell_type": "code",
   "execution_count": 28,
   "metadata": {},
   "outputs": [],
   "source": [
    "min_location = lakes[0]\n",
    "poly = Polygon([(min_location[0], min_location[1]),\n",
    "                       (min_location[0] + min_location[2], min_location[1]),\n",
    "                       (min_location[0], min_location[1] + min_location[3]),\n",
    "                       (min_location[0] + min_location[2], min_location[1] + min_location[3])])\n",
    "        # Shapely point for current location\n",
    "point = Point(lion.location[0], lion.location[1])"
   ]
  },
  {
   "cell_type": "code",
   "execution_count": 30,
   "metadata": {},
   "outputs": [
    {
     "data": {
      "text/plain": [
       "'POINT (315 300)'"
      ]
     },
     "execution_count": 30,
     "metadata": {},
     "output_type": "execute_result"
    }
   ],
   "source": [
    "pol_ext = LinearRing(poly.exterior.coords)\n",
    "d = pol_ext.project(point)\n",
    "p = pol_ext.interpolate(d)\n",
    "p.wkt"
   ]
  },
  {
   "cell_type": "code",
   "execution_count": null,
   "metadata": {},
   "outputs": [],
   "source": []
  }
 ],
 "metadata": {
  "kernelspec": {
   "display_name": "Python 3",
   "language": "python",
   "name": "python3"
  },
  "language_info": {
   "codemirror_mode": {
    "name": "ipython",
    "version": 3
   },
   "file_extension": ".py",
   "mimetype": "text/x-python",
   "name": "python",
   "nbconvert_exporter": "python",
   "pygments_lexer": "ipython3",
   "version": "3.7.3"
  }
 },
 "nbformat": 4,
 "nbformat_minor": 2
}
